{
 "cells": [
  {
   "cell_type": "code",
   "execution_count": 47,
   "id": "9862d91a",
   "metadata": {
    "scrolled": true
   },
   "outputs": [
    {
     "data": {
      "text/html": [
       "\n",
       "        <iframe\n",
       "            width=\"100%\"\n",
       "            height=\"650\"\n",
       "            src=\"http://127.0.0.1:8050/\"\n",
       "            frameborder=\"0\"\n",
       "            allowfullscreen\n",
       "            \n",
       "        ></iframe>\n",
       "        "
      ],
      "text/plain": [
       "<IPython.lib.display.IFrame at 0x24741f76580>"
      ]
     },
     "metadata": {},
     "output_type": "display_data"
    }
   ],
   "source": [
    "# Notebook: Task 2.1 - App Layout and Title\n",
    "\n",
    "# Import necessary libraries\n",
    "import dash\n",
    "from dash import html\n",
    "\n",
    "# Initialize the Dash app\n",
    "app = dash.Dash(__name__)\n",
    "\n",
    "# App layout\n",
    "app.layout = html.Div(children=[\n",
    "    html.H1(\"Automobile Sales Statistics Dashboard\", style={'textAlign': 'center', 'color': 'blue'}),\n",
    "])\n",
    "\n",
    "# Run the app\n",
    "if __name__ == '__main__':\n",
    "    app.run_server(debug=True)\n"
   ]
  },
  {
   "cell_type": "code",
   "execution_count": 48,
   "id": "3b8b8098",
   "metadata": {},
   "outputs": [
    {
     "data": {
      "text/html": [
       "\n",
       "        <iframe\n",
       "            width=\"100%\"\n",
       "            height=\"650\"\n",
       "            src=\"http://127.0.0.1:8050/\"\n",
       "            frameborder=\"0\"\n",
       "            allowfullscreen\n",
       "            \n",
       "        ></iframe>\n",
       "        "
      ],
      "text/plain": [
       "<IPython.lib.display.IFrame at 0x24741f76a60>"
      ]
     },
     "metadata": {},
     "output_type": "display_data"
    }
   ],
   "source": [
    "# Notebook: Task 2.2 - Dropdowns\n",
    "\n",
    "# Import necessary libraries\n",
    "import dash\n",
    "from dash import dcc, html\n",
    "\n",
    "# Initialize the Dash app\n",
    "app = dash.Dash(__name__)\n",
    "\n",
    "# App layout with dropdowns\n",
    "app.layout = html.Div(children=[\n",
    "    html.H1(\"Automobile Sales Statistics Dashboard\", style={'textAlign': 'center', 'color': 'blue'}),\n",
    "    \n",
    "    dcc.Dropdown(\n",
    "        id='statistics-dropdown',\n",
    "        options=[\n",
    "            {'label': 'Recession Report', 'value': 'recession'},\n",
    "            {'label': 'Yearly Sales Statistics', 'value': 'yearly'}\n",
    "        ],\n",
    "        value='recession',  # Default value\n",
    "        clearable=False,\n",
    "    ),\n",
    "    dcc.Dropdown(\n",
    "        id='year-dropdown',\n",
    "        options=[{'label': str(year), 'value': str(year)} for year in range(2010, 2020)],\n",
    "        placeholder='Select Year',\n",
    "        disabled=True,  # This dropdown is disabled by default\n",
    "    ),\n",
    "])\n",
    "\n",
    "# Run the app\n",
    "if __name__ == '__main__':\n",
    "    app.run_server(debug=True)\n"
   ]
  },
  {
   "cell_type": "code",
   "execution_count": 49,
   "id": "7a5116b8",
   "metadata": {},
   "outputs": [
    {
     "data": {
      "text/html": [
       "\n",
       "        <iframe\n",
       "            width=\"100%\"\n",
       "            height=\"650\"\n",
       "            src=\"http://127.0.0.1:8050/\"\n",
       "            frameborder=\"0\"\n",
       "            allowfullscreen\n",
       "            \n",
       "        ></iframe>\n",
       "        "
      ],
      "text/plain": [
       "<IPython.lib.display.IFrame at 0x247421544c0>"
      ]
     },
     "metadata": {},
     "output_type": "display_data"
    }
   ],
   "source": [
    "# Notebook: Task 2.3 - Output Container\n",
    "\n",
    "# Import necessary libraries\n",
    "import dash\n",
    "from dash import dcc, html\n",
    "\n",
    "# Initialize the Dash app\n",
    "app = dash.Dash(__name__)\n",
    "\n",
    "# App layout with output container\n",
    "app.layout = html.Div(children=[\n",
    "    html.H1(\"Automobile Sales Statistics Dashboard\", style={'textAlign': 'center', 'color': 'blue'}),\n",
    "    \n",
    "    dcc.Dropdown(\n",
    "        id='statistics-dropdown',\n",
    "        options=[\n",
    "            {'label': 'Recession Report', 'value': 'recession'},\n",
    "            {'label': 'Yearly Sales Statistics', 'value': 'yearly'}\n",
    "        ],\n",
    "        value='recession',  # Default value\n",
    "        clearable=False,\n",
    "    ),\n",
    "    dcc.Dropdown(\n",
    "        id='year-dropdown',\n",
    "        options=[{'label': str(year), 'value': str(year)} for year in range(2010, 2020)],\n",
    "        placeholder='Select Year',\n",
    "        disabled=True,  # This dropdown is disabled by default\n",
    "    ),\n",
    "    \n",
    "    html.Div(id='output-container', className='output-container'),  # Output container\n",
    "])\n",
    "\n",
    "# Run the app\n",
    "if __name__ == '__main__':\n",
    "    app.run_server(debug=True)\n"
   ]
  },
  {
   "cell_type": "code",
   "execution_count": 53,
   "id": "00de1b6b",
   "metadata": {},
   "outputs": [
    {
     "data": {
      "text/html": [
       "\n",
       "        <iframe\n",
       "            width=\"100%\"\n",
       "            height=\"650\"\n",
       "            src=\"http://127.0.0.1:8050/\"\n",
       "            frameborder=\"0\"\n",
       "            allowfullscreen\n",
       "            \n",
       "        ></iframe>\n",
       "        "
      ],
      "text/plain": [
       "<IPython.lib.display.IFrame at 0x247422419a0>"
      ]
     },
     "metadata": {},
     "output_type": "display_data"
    }
   ],
   "source": [
    "# Notebook: Task 2.4 - Callbacks for Dropdowns\n",
    "\n",
    "# Import necessary libraries\n",
    "import dash\n",
    "from dash import dcc, html, Input, Output\n",
    "\n",
    "# Initialize the Dash app\n",
    "app = dash.Dash(__name__)\n",
    "\n",
    "# App layout\n",
    "app.layout = html.Div(children=[\n",
    "    html.H1(\"Automobile Sales Statistics Dashboard\", style={'textAlign': 'center', 'color': 'blue'}),\n",
    "    \n",
    "    dcc.Dropdown(\n",
    "        id='statistics-dropdown',\n",
    "        options=[\n",
    "            {'label': 'Recession Report', 'value': 'recession'},\n",
    "            {'label': 'Yearly Sales Statistics', 'value': 'yearly'}\n",
    "        ],\n",
    "        value='recession',  # Default value\n",
    "        clearable=False,\n",
    "    ),\n",
    "    dcc.Dropdown(\n",
    "        id='year-dropdown',\n",
    "        options=[{'label': str(year), 'value': str(year)} for year in range(2010, 2020)],\n",
    "        placeholder='Select Year',\n",
    "        disabled=True,  # This dropdown is disabled by default\n",
    "    ),\n",
    "    \n",
    "    html.Div(id='output-container', className='output-container'),  # Output container\n",
    "])\n",
    "\n",
    "# Callbacks for updating year dropdown based on selected statistic\n",
    "@app.callback(\n",
    "    Output('year-dropdown', 'disabled'),\n",
    "    Input('statistics-dropdown', 'value')\n",
    ")\n",
    "def update_year_dropdown(selected_statistic):\n",
    "    \"\"\"Enable the year dropdown for Yearly Sales Statistics only.\"\"\"\n",
    "    return selected_statistic != 'yearly'  # Enable if 'yearly' is selected\n",
    "\n",
    "# Run the app\n",
    "if __name__ == '__main__':\n",
    "    app.run_server(debug=True)\n"
   ]
  },
  {
   "cell_type": "code",
   "execution_count": 55,
   "id": "a3c2fa57",
   "metadata": {},
   "outputs": [
    {
     "data": {
      "text/html": [
       "\n",
       "        <iframe\n",
       "            width=\"100%\"\n",
       "            height=\"650\"\n",
       "            src=\"http://127.0.0.1:8050/\"\n",
       "            frameborder=\"0\"\n",
       "            allowfullscreen\n",
       "            \n",
       "        ></iframe>\n",
       "        "
      ],
      "text/plain": [
       "<IPython.lib.display.IFrame at 0x24742491610>"
      ]
     },
     "metadata": {},
     "output_type": "display_data"
    }
   ],
   "source": [
    "# Notebook: Task 2.5 - Displaying Graphs for Recession Report\n",
    "\n",
    "# Import necessary libraries\n",
    "import dash\n",
    "from dash import dcc, html, Input, Output\n",
    "import plotly.express as px\n",
    "import pandas as pd\n",
    "import numpy as np\n",
    "\n",
    "# Sample Data Preparation\n",
    "data = {\n",
    "    'Year': np.arange(2010, 2020),\n",
    "    'Car Sales': [5000, 8000, 7000, 9000, 8500, 10000, 12000, 14000, 16000, 18000],\n",
    "    'Advertising Expenditure': [500, 600, 700, 800, 900, 1000, 1100, 1200, 1300, 1400],\n",
    "    'Unemployment Rate': [8, 9, 10, 12, 10, 8, 7, 6, 5, 4]\n",
    "}\n",
    "df = pd.DataFrame(data)\n",
    "\n",
    "# Initialize the Dash app\n",
    "app = dash.Dash(__name__)\n",
    "\n",
    "# App layout\n",
    "app.layout = html.Div(children=[\n",
    "    html.H1(\"Automobile Sales Statistics Dashboard\", style={'textAlign': 'center', 'color': 'blue'}),\n",
    "    \n",
    "    dcc.Dropdown(\n",
    "        id='statistics-dropdown',\n",
    "        options=[\n",
    "            {'label': 'Recession Report', 'value': 'recession'},\n",
    "            {'label': 'Yearly Sales Statistics', 'value': 'yearly'}\n",
    "        ],\n",
    "        value='recession',  # Default value\n",
    "        clearable=False,\n",
    "    ),\n",
    "    dcc.Dropdown(\n",
    "        id='year-dropdown',\n",
    "        options=[{'label': str(year), 'value': str(year)} for year in range(2010, 2020)],\n",
    "        placeholder='Select Year',\n",
    "        disabled=True,  # This dropdown is disabled by default\n",
    "    ),\n",
    "    \n",
    "    html.Div(id='output-container', className='output-container'),  # Output container\n",
    "])\n",
    "\n",
    "# Callback for displaying graphs\n",
    "@app.callback(\n",
    "    Output('output-container', 'children'),\n",
    "    Input('statistics-dropdown', 'value')\n",
    ")\n",
    "def update_output(selected_statistic):\n",
    "    \"\"\"Update output container with appropriate graphs based on selected statistic.\"\"\"\n",
    "    if selected_statistic == 'recession':\n",
    "        fig1 = px.line(df, x='Year', y='Car Sales', title='Car Sales Over Time')\n",
    "        fig2 = px.bar(df, x='Year', y='Advertising Expenditure', title='Advertising Expenditure Over Time')\n",
    "        fig3 = px.pie(df, values='Car Sales', names='Year', title='Car Sales Distribution')\n",
    "        fig4 = px.scatter(df, x='Unemployment Rate', y='Car Sales', title='Unemployment Rate vs Car Sales')\n",
    "\n",
    "        return [\n",
    "            dcc.Graph(figure=fig1),\n",
    "            dcc.Graph(figure=fig2),\n",
    "            dcc.Graph(figure=fig3),\n",
    "            dcc.Graph(figure=fig4),\n",
    "        ]\n",
    "\n",
    "# Run the app\n",
    "if __name__ == '__main__':\n",
    "    app.run_server(debug=True)\n"
   ]
  },
  {
   "cell_type": "code",
   "execution_count": 56,
   "id": "020649fe",
   "metadata": {},
   "outputs": [
    {
     "data": {
      "text/html": [
       "\n",
       "        <iframe\n",
       "            width=\"100%\"\n",
       "            height=\"650\"\n",
       "            src=\"http://127.0.0.1:8050/\"\n",
       "            frameborder=\"0\"\n",
       "            allowfullscreen\n",
       "            \n",
       "        ></iframe>\n",
       "        "
      ],
      "text/plain": [
       "<IPython.lib.display.IFrame at 0x247424232b0>"
      ]
     },
     "metadata": {},
     "output_type": "display_data"
    }
   ],
   "source": [
    "# Notebook: Task 2.6 - Displaying Graphs for Yearly Report\n",
    "\n",
    "# Import necessary libraries\n",
    "import dash\n",
    "from dash import dcc, html, Input, Output\n",
    "import plotly.express as px\n",
    "import pandas as pd\n",
    "import numpy as np\n",
    "\n",
    "# Sample Data Preparation\n",
    "data = {\n",
    "    'Year': np.arange(2010, 2020),\n",
    "    'Car Sales': [5000, 8000, 7000, 9000, 8500, 10000, 12000, 14000, 16000, 18000],\n",
    "    'Advertising Expenditure': [500, 600, 700, 800, 900, 1000, 1100, 1200, 1300, 1400],\n",
    "    'Unemployment Rate': [8, 9, 10, 12, 10, 8, 7, 6, 5, 4]\n",
    "}\n",
    "df = pd.DataFrame(data)\n",
    "\n",
    "# Initialize the Dash app\n",
    "app = dash.Dash(__name__)\n",
    "\n",
    "# App layout\n",
    "app.layout = html.Div(children=[\n",
    "    html.H1(\"Automobile Sales Statistics Dashboard\", style={'textAlign': 'center', 'color': 'blue'}),\n",
    "    \n",
    "    dcc.Dropdown(\n",
    "        id='statistics-dropdown',\n",
    "        options=[\n",
    "            {'label': 'Recession Report', 'value': 'recession'},\n",
    "            {'label': 'Yearly Sales Statistics', 'value': 'yearly'}\n",
    "        ],\n",
    "        value='recession',  # Default value\n",
    "        clearable=False,\n",
    "    ),\n",
    "    dcc.Dropdown(\n",
    "        id='year-dropdown',\n",
    "        options=[{'label': str(year), 'value': str(year)} for year in range(2010, 2020)],\n",
    "        placeholder='Select Year',\n",
    "        disabled=True,  # This dropdown is disabled by default\n",
    "    ),\n",
    "    \n",
    "    html.Div(id='output-container', className='output-container'),  # Output container\n",
    "])\n",
    "\n",
    "# Callback for displaying graphs\n",
    "@app.callback(\n",
    "    Output('output-container', 'children'),\n",
    "    [Input('statistics-dropdown', 'value'),\n",
    "     Input('year-dropdown', 'value')]\n",
    ")\n",
    "def update_output(selected_statistic, selected_year):\n",
    "    \"\"\"Update output container with appropriate graphs based on selected statistic and year.\"\"\"\n",
    "    if selected_statistic == 'recession':\n",
    "        # Display recession graphs\n",
    "        fig1 = px.line(df, x='Year', y='Car Sales', title='Car Sales Over Time')\n",
    "        fig2 = px.bar(df, x='Year', y='Advertising Expenditure', title='Advertising Expenditure Over Time')\n",
    "        fig3 = px.pie(df, values='Car Sales', names='Year', title='Car Sales Distribution')\n",
    "        fig4 = px.scatter(df, x='Unemployment Rate', y='Car Sales', title='Unemployment Rate vs Car Sales')\n",
    "\n",
    "        return [\n",
    "            dcc.Graph(figure=fig1),\n",
    "            dcc.Graph(figure=fig2),\n",
    "            dcc.Graph(figure=fig3),\n",
    "            dcc.Graph(figure=fig4),\n",
    "        ]\n",
    "    else:\n",
    "        # Display yearly report graphs\n",
    "        year_data = df[df['Year'] == int(selected_year)] if selected_year else df\n",
    "        fig1 = px.line(year_data, x='Year', y='Car Sales', title='Car Sales for Selected Year')\n",
    "        fig2 = px.bar(year_data, x='Year', y='Advertising Expenditure', title='Advertising Expenditure for Selected Year')\n",
    "        fig3 = px.pie(year_data, values='Car Sales', names='Year', title='Car Sales Distribution for Selected Year')\n",
    "        fig4 = px.scatter(year_data, x='Unemployment Rate', y='Car Sales', title='Unemployment Rate vs Car Sales for Selected Year')\n",
    "\n",
    "        return [\n",
    "            dcc.Graph(figure=fig1),\n",
    "            dcc.Graph(figure=fig2),\n",
    "            dcc.Graph(figure=fig3),\n",
    "            dcc.Graph(figure=fig4),\n",
    "        ]\n",
    "\n",
    "# Run the app\n",
    "if __name__ == '__main__':\n",
    "    app.run_server(debug=True)\n"
   ]
  }
 ],
 "metadata": {
  "kernelspec": {
   "display_name": "Python 3 (ipykernel)",
   "language": "python",
   "name": "python3"
  },
  "language_info": {
   "codemirror_mode": {
    "name": "ipython",
    "version": 3
   },
   "file_extension": ".py",
   "mimetype": "text/x-python",
   "name": "python",
   "nbconvert_exporter": "python",
   "pygments_lexer": "ipython3",
   "version": "3.9.12"
  }
 },
 "nbformat": 4,
 "nbformat_minor": 5
}
