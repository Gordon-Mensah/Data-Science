{
 "cells": [
  {
   "cell_type": "code",
   "execution_count": 28,
   "id": "91e599e9",
   "metadata": {
    "scrolled": true
   },
   "outputs": [
    {
     "data": {
      "text/html": [
       "\n",
       "        <iframe\n",
       "            width=\"100%\"\n",
       "            height=\"650\"\n",
       "            src=\"http://127.0.0.1:8050/\"\n",
       "            frameborder=\"0\"\n",
       "            allowfullscreen\n",
       "            \n",
       "        ></iframe>\n",
       "        "
      ],
      "text/plain": [
       "<IPython.lib.display.IFrame at 0x2473a6d38e0>"
      ]
     },
     "metadata": {},
     "output_type": "display_data"
    }
   ],
   "source": [
    "# Part 2: Dash Application\n",
    "\n",
    "# TASK 2.1:\n",
    "import dash\n",
    "from dash import dcc, html\n",
    "from dash.dependencies import Input, Output\n",
    "import plotly.graph_objs as go\n",
    "\n",
    "app = dash.Dash(__name__)\n",
    "app.title = \"Automobile Sales Dashboard\"  # Meaningful title\n",
    "\n",
    "# TASK 2.2: Add drop-downs to your dashboard with appropriate titles and options.\n",
    "app.layout = html.Div([\n",
    "    html.H1(\"Automobile Sales Dashboard\"),\n",
    "    dcc.Dropdown(\n",
    "        id='vehicle-type',\n",
    "        options=[\n",
    "            {'label': 'Car', 'value': 'car'},\n",
    "            {'label': 'Truck', 'value': 'truck'}\n",
    "        ],\n",
    "        value='car',\n",
    "        placeholder=\"Select Vehicle Type\"\n",
    "    ),\n",
    "    html.Div(id='output-container', className='output-container'),  # Unique output container\n",
    "    dcc.Graph(id='sales-graph'),  # Placeholder for sales graph\n",
    "    dcc.Graph(id='gdp-graph'),     # Placeholder for GDP graph\n",
    "])\n",
    "\n",
    "# TASK 2.3: Add a division for output display with appropriate 'id' and 'classname' property.\n",
    "# Already added above in app.layout\n",
    "\n",
    "# TASK 2.4: Creating Callbacks; Define the callback function to update the input container.\n",
    "@app.callback(\n",
    "    Output('output-container', 'children'),\n",
    "    Input('vehicle-type', 'value')\n",
    ")\n",
    "def update_output(value):\n",
    "    return f'You have selected: {value}'\n",
    "\n",
    "# TASK 2.5: Create and display graphs for Recession Report Statistics.\n",
    "@app.callback(\n",
    "    Output('sales-graph', 'figure'),\n",
    "    Input('vehicle-type', 'value')\n",
    ")\n",
    "def update_graph(selected_vehicle):\n",
    "    years = [2010, 2011, 2012, 2013, 2014, 2015, 2016, 2017, 2018, 2019]  # Sample years\n",
    "    car_sales = [5000, 8000, 7000, 9000, 8500, 10000, 12000, 14000, 16000, 18000]  # Sample car sales\n",
    "    truck_sales = [5000, 7000, 5000, 9000, 7500, 10000, 10000, 11000, 11000, 12000]  # Sample truck sales\n",
    "    \n",
    "    if selected_vehicle == 'car':\n",
    "        sales_data = car_sales\n",
    "        title = \"Car Sales Over the Years\"\n",
    "    else:\n",
    "        sales_data = truck_sales\n",
    "        title = \"Truck Sales Over the Years\"\n",
    "\n",
    "    return {\n",
    "        'data': [go.Scatter(x=years, y=sales_data, mode='lines+markers')],\n",
    "        'layout': go.Layout(title=title, xaxis={'title': 'Year'}, yaxis={'title': 'Sales'})\n",
    "    }\n",
    "\n",
    "# TASK 2.6: Create and display graphs for Yearly Report Statistics.\n",
    "@app.callback(\n",
    "    Output('gdp-graph', 'figure'),\n",
    "    Input('vehicle-type', 'value')\n",
    ")\n",
    "def update_gdp_graph(selected_vehicle):\n",
    "    years = [2010, 2011, 2012, 2013, 2014, 2015, 2016, 2017, 2018, 2019]  # Sample years\n",
    "    gdp = [15000, 15500, 16000, 16500, 17000, 17500, 18000, 18500, 19000, 20000]  # Sample GDP data\n",
    "\n",
    "    return {\n",
    "        'data': [go.Scatter(x=years, y=gdp, mode='lines+markers')],\n",
    "        'layout': go.Layout(title=\"GDP Over the Years\", xaxis={'title': 'Year'}, yaxis={'title': 'GDP'})\n",
    "    }\n",
    "\n",
    "# Run the app\n",
    "if __name__ == '__main__':\n",
    "    app.run_server(debug=True)\n"
   ]
  },
  {
   "cell_type": "code",
   "execution_count": null,
   "id": "0beb5825",
   "metadata": {},
   "outputs": [],
   "source": []
  }
 ],
 "metadata": {
  "kernelspec": {
   "display_name": "Python 3 (ipykernel)",
   "language": "python",
   "name": "python3"
  },
  "language_info": {
   "codemirror_mode": {
    "name": "ipython",
    "version": 3
   },
   "file_extension": ".py",
   "mimetype": "text/x-python",
   "name": "python",
   "nbconvert_exporter": "python",
   "pygments_lexer": "ipython3",
   "version": "3.9.12"
  }
 },
 "nbformat": 4,
 "nbformat_minor": 5
}
