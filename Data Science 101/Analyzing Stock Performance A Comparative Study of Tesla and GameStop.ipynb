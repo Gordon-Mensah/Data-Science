{
 "cells": [
  {
   "cell_type": "code",
   "execution_count": null,
   "id": "2f7210b3",
   "metadata": {},
   "outputs": [],
   "source": [
    "import yfinance as yf\n",
    "\n",
    "# Extract Tesla stock data\n",
    "tesla_data = yf.download('TSLA', start='2020-01-01', end='2024-01-01')\n",
    "\n",
    "# Reset index\n",
    "tesla_data.reset_index(inplace=True)\n",
    "\n",
    "# Display the first five rows\n",
    "print(tesla_data.head())\n"
   ]
  },
  {
   "cell_type": "code",
   "execution_count": null,
   "id": "67271a44",
   "metadata": {},
   "outputs": [],
   "source": [
    "import pandas as pd\n",
    "import requests\n",
    "from bs4 import BeautifulSoup\n",
    "\n",
    "# Example URL for Tesla revenue data (replace with the actual URL)\n",
    "url = 'https://example.com/tesla-revenue'\n",
    "\n",
    "response = requests.get(url)\n",
    "soup = BeautifulSoup(response.text, 'html.parser')\n",
    "\n",
    "# Assuming the data is in a table\n",
    "table = soup.find('table')\n",
    "tesla_revenue = pd.read_html(str(table))[0]\n",
    "\n",
    "# Display the last five rows\n",
    "print(tesla_revenue.tail())\n"
   ]
  },
  {
   "cell_type": "code",
   "execution_count": null,
   "id": "f96e3970",
   "metadata": {},
   "outputs": [],
   "source": [
    "# Extract GameStop stock data\n",
    "gme_data = yf.download('GME', start='2020-01-01', end='2024-01-01')\n",
    "\n",
    "# Reset index\n",
    "gme_data.reset_index(inplace=True)\n",
    "\n",
    "# Display the first five rows\n",
    "print(gme_data.head())\n"
   ]
  },
  {
   "cell_type": "code",
   "execution_count": null,
   "id": "c4d3bc46",
   "metadata": {},
   "outputs": [],
   "source": [
    "# Example URL for GME revenue data (replace with the actual URL)\n",
    "url = 'https://example.com/gme-revenue'\n",
    "\n",
    "response = requests.get(url)\n",
    "soup = BeautifulSoup(response.text, 'html.parser')\n",
    "\n",
    "# Assuming the data is in a table\n",
    "table = soup.find('table')\n",
    "gme_revenue = pd.read_html(str(table))[0]\n",
    "\n",
    "# Display the last five rows\n",
    "print(gme_revenue.tail())\n"
   ]
  },
  {
   "cell_type": "code",
   "execution_count": null,
   "id": "ca5fae68",
   "metadata": {},
   "outputs": [],
   "source": [
    "import matplotlib.pyplot as plt\n",
    "\n",
    "def make_graph(data, title):\n",
    "    plt.figure(figsize=(10, 5))\n",
    "    plt.plot(data['Date'], data['Close'], label='Close Price')\n",
    "    plt.title(title)\n",
    "    plt.xlabel('Date')\n",
    "    plt.ylabel('Price')\n",
    "    plt.legend()\n",
    "    plt.grid()\n",
    "    plt.show()\n",
    "\n",
    "# Plot Tesla stock data\n",
    "make_graph(tesla_data, 'Tesla Stock Price Over Time')\n"
   ]
  },
  {
   "cell_type": "code",
   "execution_count": null,
   "id": "53c6d36f",
   "metadata": {},
   "outputs": [],
   "source": [
    "# Plot GameStop stock data\n",
    "make_graph(gme_data, 'GameStop Stock Price Over Time')\n"
   ]
  }
 ],
 "metadata": {
  "kernelspec": {
   "display_name": "Python 3 (ipykernel)",
   "language": "python",
   "name": "python3"
  },
  "language_info": {
   "codemirror_mode": {
    "name": "ipython",
    "version": 3
   },
   "file_extension": ".py",
   "mimetype": "text/x-python",
   "name": "python",
   "nbconvert_exporter": "python",
   "pygments_lexer": "ipython3",
   "version": "3.9.12"
  }
 },
 "nbformat": 4,
 "nbformat_minor": 5
}
