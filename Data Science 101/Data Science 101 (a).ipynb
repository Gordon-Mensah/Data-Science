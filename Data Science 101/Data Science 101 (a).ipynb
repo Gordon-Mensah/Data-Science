{
 "cells": [
  {
   "cell_type": "markdown",
   "id": "62938fee",
   "metadata": {},
   "source": [
    "# Data Science Notebook"
   ]
  },
  {
   "cell_type": "markdown",
   "id": "21a57ccc",
   "metadata": {},
   "source": [
    "## Introduction\n",
    "In this notebook, Data Science Tools and Ecosystem are summarized."
   ]
  },
  {
   "cell_type": "markdown",
   "id": "11eb7bf4",
   "metadata": {},
   "source": [
    "## Some of the popular languages that Data Scientists use are:\n",
    "- Python\n",
    "- R\n",
    "- SQL"
   ]
  },
  {
   "cell_type": "markdown",
   "id": "beefd9f9",
   "metadata": {},
   "source": [
    "## Some of the commonly used libraries used by Data Scientists include:\n",
    "- Pandas\n",
    "- NumPy\n",
    "- Scikit-learn"
   ]
  },
  {
   "cell_type": "markdown",
   "id": "edd64828",
   "metadata": {},
   "source": [
    "## Data Science Tools\n",
    "\n",
    "| Tool             | Purpose                                 |\n",
    "|------------------|-----------------------------------------|\n",
    "| Jupyter Notebook  | Interactive coding and visualization    |\n",
    "| GitHub           | Version control and collaboration       |\n",
    "| RStudio          | IDE for R programming                   |\n",
    "| Anaconda         | Package manager for Python              |\n",
    "| Tableau          | Data visualization                      |\n"
   ]
  },
  {
   "cell_type": "markdown",
   "id": "6cd1cd0c",
   "metadata": {},
   "source": [
    "### Below are a few examples of evaluating arithmetic expressions in Python.\n"
   ]
  },
  {
   "cell_type": "code",
   "execution_count": 8,
   "id": "e4e0de4c",
   "metadata": {},
   "outputs": [
    {
     "data": {
      "text/plain": [
       "17"
      ]
     },
     "execution_count": 8,
     "metadata": {},
     "output_type": "execute_result"
    }
   ],
   "source": [
    "# This is a simple arithmetic expression to multiply then add integers.\n",
    "result = (3 * 4) + 5\n",
    "result\n"
   ]
  },
  {
   "cell_type": "code",
   "execution_count": 9,
   "id": "36dce3f1",
   "metadata": {},
   "outputs": [
    {
     "data": {
      "text/plain": [
       "3.3333333333333335"
      ]
     },
     "execution_count": 9,
     "metadata": {},
     "output_type": "execute_result"
    }
   ],
   "source": [
    "# This will convert 200 minutes to hours by dividing by 60.\n",
    "hours = 200 / 60\n",
    "hours\n"
   ]
  },
  {
   "cell_type": "markdown",
   "id": "93a21c0b",
   "metadata": {},
   "source": [
    "## Objectives\n",
    "1. Understand key data science languages.\n",
    "2. Familiarize with popular data science libraries.\n",
    "3. Learn about essential data science tools.\n",
    "4. Gain practical experience with arithmetic operations.\n",
    "5. Develop a collaborative environment using GitHub.\n"
   ]
  },
  {
   "cell_type": "markdown",
   "id": "5c6e9af4",
   "metadata": {},
   "source": [
    "## Author\n",
    "John Jerry Gordon-Mensah\n"
   ]
  }
 ],
 "metadata": {
  "kernelspec": {
   "display_name": "Python 3 (ipykernel)",
   "language": "python",
   "name": "python3"
  },
  "language_info": {
   "codemirror_mode": {
    "name": "ipython",
    "version": 3
   },
   "file_extension": ".py",
   "mimetype": "text/x-python",
   "name": "python",
   "nbconvert_exporter": "python",
   "pygments_lexer": "ipython3",
   "version": "3.9.12"
  }
 },
 "nbformat": 4,
 "nbformat_minor": 5
}
