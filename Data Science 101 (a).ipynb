{
 "cells": [
  {
   "cell_type": "markdown",
   "id": "62938fee",
   "metadata": {},
   "source": [
    "# Data Science Notebook"
   ]
  },
  {
   "cell_type": "markdown",
   "id": "21a57ccc",
   "metadata": {},
   "source": [
    "## Introduction\n",
    "This notebook provides an overview of data science languages, libraries, tools, and examples of arithmetic operations. It serves as a resource for beginners to understand the fundamental components of data science."
   ]
  },
  {
   "cell_type": "markdown",
   "id": "11eb7bf4",
   "metadata": {},
   "source": [
    "## Data Science Languages\n",
    "- Python\n",
    "- R\n",
    "- SQL\n",
    "- Java\n",
    "- Julia"
   ]
  },
  {
   "cell_type": "markdown",
   "id": "beefd9f9",
   "metadata": {},
   "source": [
    "## Data Science Libraries\n",
    "- NumPy\n",
    "- Pandas\n",
    "- Matplotlib\n",
    "- Scikit-learn\n",
    "- TensorFlow\n"
   ]
  },
  {
   "cell_type": "markdown",
   "id": "edd64828",
   "metadata": {},
   "source": [
    "## Data Science Tools\n",
    "\n",
    "| Tool             | Purpose                                 |\n",
    "|------------------|-----------------------------------------|\n",
    "| Jupyter Notebook  | Interactive coding and visualization    |\n",
    "| GitHub           | Version control and collaboration       |\n",
    "| RStudio          | IDE for R programming                   |\n",
    "| Anaconda         | Package manager for Python              |\n",
    "| Tableau          | Data visualization                      |\n"
   ]
  },
  {
   "cell_type": "markdown",
   "id": "6cd1cd0c",
   "metadata": {},
   "source": [
    "## Arithmetic Expression Examples\n",
    "In this section, we will demonstrate basic arithmetic operations such as addition and multiplication.\n"
   ]
  },
  {
   "cell_type": "code",
   "execution_count": 3,
   "id": "e4e0de4c",
   "metadata": {},
   "outputs": [
    {
     "data": {
      "text/plain": [
       "(15, 8)"
      ]
     },
     "execution_count": 3,
     "metadata": {},
     "output_type": "execute_result"
    }
   ],
   "source": [
    "# Multiplication and Addition\n",
    "a = 5\n",
    "b = 3\n",
    "\n",
    "# Multiply\n",
    "multiplication_result = a * b\n",
    "\n",
    "# Add\n",
    "addition_result = a + b\n",
    "\n",
    "multiplication_result, addition_result\n"
   ]
  },
  {
   "cell_type": "markdown",
   "id": "93a21c0b",
   "metadata": {},
   "source": [
    "## Objectives\n",
    "1. Understand key data science languages.\n",
    "2. Familiarize with popular data science libraries.\n",
    "3. Learn about essential data science tools.\n",
    "4. Gain practical experience with arithmetic operations.\n",
    "5. Develop a collaborative environment using GitHub.\n"
   ]
  },
  {
   "cell_type": "markdown",
   "id": "5c6e9af4",
   "metadata": {},
   "source": [
    "## Author\n",
    "John Jerry Gordon-Mensah\n"
   ]
  },
  {
   "cell_type": "code",
   "execution_count": null,
   "id": "299e1144",
   "metadata": {},
   "outputs": [],
   "source": []
  },
  {
   "cell_type": "code",
   "execution_count": null,
   "id": "c96d4aa8",
   "metadata": {},
   "outputs": [],
   "source": []
  }
 ],
 "metadata": {
  "kernelspec": {
   "display_name": "Python 3 (ipykernel)",
   "language": "python",
   "name": "python3"
  },
  "language_info": {
   "codemirror_mode": {
    "name": "ipython",
    "version": 3
   },
   "file_extension": ".py",
   "mimetype": "text/x-python",
   "name": "python",
   "nbconvert_exporter": "python",
   "pygments_lexer": "ipython3",
   "version": "3.9.12"
  }
 },
 "nbformat": 4,
 "nbformat_minor": 5
}
